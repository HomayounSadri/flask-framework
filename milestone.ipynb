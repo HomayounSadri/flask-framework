{
 "cells": [
  {
   "cell_type": "code",
   "execution_count": 133,
   "metadata": {},
   "outputs": [],
   "source": [
    "from flask import Flask, render_template, request, redirect\n",
    "import requests\n",
    "import pandas as pd\n",
    "from bokeh.plotting import figure, show\n",
    "from bokeh.embed import components"
   ]
  },
  {
   "cell_type": "code",
   "execution_count": 129,
   "metadata": {
    "scrolled": true
   },
   "outputs": [],
   "source": [
    "def getData(ticker):\n",
    "    # requesting data from Quandl\n",
    "    start = \"2018-01-01\"\n",
    "    end = \"2018-01-31\"\n",
    "    reqUrl = 'https://www.quandl.com/api/v3/datasets/WIKI/' + ticker + '.json?start_date=' + start \\\n",
    "              + '&end_date=' + end + '&api_key=zYQbJBM9FNT9f71ngkz1'\n",
    "    r = requests.get(reqUrl)\n",
    "\n",
    "    # fetch data\n",
    "    return_data = r.json()['dataset']\n",
    "    df = pd.DataFrame(return_data['data'], columns=return_data['column_names'])\n",
    "    df = df.set_index(pd.DatetimeIndex(df['Date']))\n",
    "    return df"
   ]
  },
  {
   "cell_type": "code",
   "execution_count": null,
   "metadata": {},
   "outputs": [],
   "source": []
  },
  {
   "cell_type": "code",
   "execution_count": 134,
   "metadata": {},
   "outputs": [],
   "source": [
    "# function to get plot\n",
    "def getPlot(df, ticker):\n",
    "    p = figure(title=\"Quandl WIKI EOD Stock Prices - January 2018\", x_axis_type=\"datetime\", x_axis_label=\"Date\",\n",
    "               y_axis_label=\"Stock price\", plot_width=1000)\n",
    "\n",
    "    p.line(df.index, df['Close'],legend_label=ticker)\n",
    "    show(p)\n",
    "    return p"
   ]
  },
  {
   "cell_type": "code",
   "execution_count": 136,
   "metadata": {},
   "outputs": [],
   "source": [
    "plot= getPlot(getData('GOOGL'),'GOOGL')"
   ]
  },
  {
   "cell_type": "code",
   "execution_count": 137,
   "metadata": {},
   "outputs": [],
   "source": [
    "script, div = components(plot)"
   ]
  },
  {
   "cell_type": "code",
   "execution_count": 139,
   "metadata": {},
   "outputs": [
    {
     "data": {
      "text/plain": [
       "'\\n<div class=\"bk-root\" id=\"3b8eb500-8274-4e51-9583-571fb48a0993\" data-root-id=\"5633\"></div>'"
      ]
     },
     "execution_count": 139,
     "metadata": {},
     "output_type": "execute_result"
    }
   ],
   "source": [
    "div"
   ]
  },
  {
   "cell_type": "code",
   "execution_count": 140,
   "metadata": {},
   "outputs": [
    {
     "name": "stdout",
     "output_type": "stream",
     "text": [
      "1.4.0\n"
     ]
    }
   ],
   "source": [
    "print(bokeh.__version__)"
   ]
  },
  {
   "cell_type": "code",
   "execution_count": null,
   "metadata": {},
   "outputs": [],
   "source": [
    "app = Flask(__name__)\n",
    "\n",
    "@app.route('/')\n",
    "def main():\n",
    "    return redirect('/index')\n",
    "\n",
    "\n",
    "@app.route('/index', methods=['GET', 'POST'])\n",
    "def index():\n",
    "    return render_template('index.html')\n",
    "\n",
    "\n",
    "@app.route('/graph', methods=['GET', 'POST'])\n",
    "def graph():\n",
    "    # User inputs from the index.html\n",
    "    ticker = request.form['ticker']\n",
    "    ticker = ticker.upper()\n",
    "#     priceTypes = request.form.getlist('priceType')\n",
    "\n",
    "    data = getData(ticker)\n",
    "    plot = getPlot(data, ticker)\n",
    "\n",
    "    script, div = components(plot)\n",
    "    return render_template('graph.html', script=script, div=div, reqUrl=reqUrl)"
   ]
  },
  {
   "cell_type": "code",
   "execution_count": null,
   "metadata": {},
   "outputs": [],
   "source": []
  },
  {
   "cell_type": "code",
   "execution_count": null,
   "metadata": {},
   "outputs": [],
   "source": []
  }
 ],
 "metadata": {
  "kernelspec": {
   "display_name": "Python 3",
   "language": "python",
   "name": "python3"
  },
  "language_info": {
   "codemirror_mode": {
    "name": "ipython",
    "version": 3
   },
   "file_extension": ".py",
   "mimetype": "text/x-python",
   "name": "python",
   "nbconvert_exporter": "python",
   "pygments_lexer": "ipython3",
   "version": "3.7.4"
  },
  "toc": {
   "base_numbering": 1,
   "nav_menu": {},
   "number_sections": true,
   "sideBar": true,
   "skip_h1_title": false,
   "title_cell": "Table of Contents",
   "title_sidebar": "Contents",
   "toc_cell": false,
   "toc_position": {},
   "toc_section_display": true,
   "toc_window_display": false
  }
 },
 "nbformat": 4,
 "nbformat_minor": 2
}
